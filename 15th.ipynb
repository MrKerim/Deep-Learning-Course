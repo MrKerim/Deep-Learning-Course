{
 "cells": [
  {
   "cell_type": "code",
   "execution_count": 2,
   "id": "ca231e41",
   "metadata": {},
   "outputs": [],
   "source": [
    "import tensorflow as tf\n",
    "import pandas as pd\n",
    "import numpy as np\n",
    "import matplotlib.pyplot as plt"
   ]
  },
  {
   "cell_type": "code",
   "execution_count": 16,
   "id": "33889eb8",
   "metadata": {},
   "outputs": [
    {
     "name": "stdout",
     "output_type": "stream",
     "text": [
      "--2023-12-06 21:58:53--  https://raw.githubusercontent.com/lazyprogrammer/machine_learning_examples/master/tf2.0/moore.csv\n",
      "Resolving raw.githubusercontent.com (raw.githubusercontent.com)... 185.199.110.133, 185.199.108.133, 185.199.111.133, ...\n",
      "Connecting to raw.githubusercontent.com (raw.githubusercontent.com)|185.199.110.133|:443... connected.\n",
      "HTTP request sent, awaiting response... 200 OK\n",
      "Length: 2302 (2,2K) [text/plain]\n",
      "Saving to: ‘moore.csv’\n",
      "\n",
      "moore.csv           100%[===================>]   2,25K  --.-KB/s    in 0s      \n",
      "\n",
      "2023-12-06 21:58:53 (4,97 MB/s) - ‘moore.csv’ saved [2302/2302]\n",
      "\n"
     ]
    }
   ],
   "source": [
    "!wget https://raw.githubusercontent.com/lazyprogrammer/machine_learning_examples/master/tf2.0/moore.csv"
   ]
  },
  {
   "cell_type": "code",
   "execution_count": 3,
   "id": "502cd228",
   "metadata": {},
   "outputs": [],
   "source": [
    "data = pd.read_csv(\"moore.csv\", header = None).to_numpy()"
   ]
  },
  {
   "cell_type": "code",
   "execution_count": 4,
   "id": "8dc5e295",
   "metadata": {},
   "outputs": [],
   "source": [
    "X = data[:,0].reshape(-1,1) # To convert X( 1xn ) to (nx1)\n",
    "Y = data[:,1]"
   ]
  },
  {
   "cell_type": "code",
   "execution_count": 68,
   "id": "d4479913",
   "metadata": {},
   "outputs": [
    {
     "data": {
      "text/plain": [
       "array([[-31.19753086],\n",
       "       [-30.19753086],\n",
       "       [-29.19753086],\n",
       "       [-29.19753086],\n",
       "       [-28.19753086],\n",
       "       [-28.19753086],\n",
       "       [-28.19753086],\n",
       "       [-27.19753086],\n",
       "       [-26.19753086],\n",
       "       [-26.19753086],\n",
       "       [-26.19753086],\n",
       "       [-24.19753086],\n",
       "       [-24.19753086],\n",
       "       [-23.19753086],\n",
       "       [-23.19753086],\n",
       "       [-23.19753086],\n",
       "       [-21.19753086],\n",
       "       [-20.19753086],\n",
       "       [-20.19753086],\n",
       "       [-19.19753086],\n",
       "       [-18.19753086],\n",
       "       [-18.19753086],\n",
       "       [-17.19753086],\n",
       "       [-17.19753086],\n",
       "       [-17.19753086],\n",
       "       [-16.19753086],\n",
       "       [-16.19753086],\n",
       "       [-16.19753086],\n",
       "       [-15.19753086],\n",
       "       [-15.19753086],\n",
       "       [-15.19753086],\n",
       "       [-15.19753086],\n",
       "       [-14.19753086],\n",
       "       [-14.19753086],\n",
       "       [-13.19753086],\n",
       "       [-13.19753086],\n",
       "       [-13.19753086],\n",
       "       [-13.19753086],\n",
       "       [-12.19753086],\n",
       "       [-11.19753086],\n",
       "       [-11.19753086],\n",
       "       [-10.19753086],\n",
       "       [-10.19753086],\n",
       "       [ -9.19753086],\n",
       "       [ -9.19753086],\n",
       "       [ -8.19753086],\n",
       "       [ -8.19753086],\n",
       "       [ -7.19753086],\n",
       "       [ -3.19753086],\n",
       "       [ -7.19753086],\n",
       "       [ -6.19753086],\n",
       "       [ -5.19753086],\n",
       "       [ -5.19753086],\n",
       "       [ -5.19753086],\n",
       "       [ -4.19753086],\n",
       "       [ -3.19753086],\n",
       "       [ -3.19753086],\n",
       "       [ -2.19753086],\n",
       "       [ -2.19753086],\n",
       "       [ -3.19753086],\n",
       "       [ -3.19753086],\n",
       "       [ -3.19753086],\n",
       "       [ -2.19753086],\n",
       "       [ -1.19753086],\n",
       "       [ -1.19753086],\n",
       "       [ -0.19753086],\n",
       "       [  1.80246914],\n",
       "       [  1.80246914],\n",
       "       [  2.80246914],\n",
       "       [  3.80246914],\n",
       "       [  2.80246914],\n",
       "       [  3.80246914],\n",
       "       [  4.80246914],\n",
       "       [  5.80246914],\n",
       "       [  0.80246914],\n",
       "       [  0.80246914],\n",
       "       [ -0.19753086],\n",
       "       [  2.80246914],\n",
       "       [  2.80246914],\n",
       "       [  3.80246914],\n",
       "       [  4.80246914],\n",
       "       [  0.80246914],\n",
       "       [  5.80246914],\n",
       "       [  6.80246914],\n",
       "       [  8.80246914],\n",
       "       [  9.80246914],\n",
       "       [  4.80246914],\n",
       "       [  4.80246914],\n",
       "       [  5.80246914],\n",
       "       [  1.80246914],\n",
       "       [  4.80246914],\n",
       "       [  5.80246914],\n",
       "       [  5.80246914],\n",
       "       [  4.80246914],\n",
       "       [  6.80246914],\n",
       "       [  7.80246914],\n",
       "       [  9.80246914],\n",
       "       [ 10.80246914],\n",
       "       [  8.80246914],\n",
       "       [  7.80246914],\n",
       "       [  7.80246914],\n",
       "       [  9.80246914],\n",
       "       [  9.80246914],\n",
       "       [  7.80246914],\n",
       "       [  9.80246914],\n",
       "       [ 11.80246914],\n",
       "       [  3.80246914],\n",
       "       [ 12.80246914],\n",
       "       [ 10.80246914],\n",
       "       [ 12.80246914],\n",
       "       [  5.80246914],\n",
       "       [  7.80246914],\n",
       "       [ 11.80246914],\n",
       "       [ 12.80246914],\n",
       "       [ 12.80246914],\n",
       "       [  9.80246914],\n",
       "       [  8.80246914],\n",
       "       [  7.80246914],\n",
       "       [ 11.80246914],\n",
       "       [  8.80246914],\n",
       "       [  9.80246914],\n",
       "       [ 11.80246914],\n",
       "       [ 13.80246914],\n",
       "       [ 14.80246914],\n",
       "       [ 14.80246914],\n",
       "       [ 15.80246914],\n",
       "       [  9.80246914],\n",
       "       [ 13.80246914],\n",
       "       [ 13.80246914],\n",
       "       [ 12.80246914],\n",
       "       [ 10.80246914],\n",
       "       [ 14.80246914],\n",
       "       [ 11.80246914],\n",
       "       [ 14.80246914],\n",
       "       [ 14.80246914],\n",
       "       [ 14.80246914],\n",
       "       [  9.80246914],\n",
       "       [ 10.80246914],\n",
       "       [ 11.80246914],\n",
       "       [ 14.80246914],\n",
       "       [ 15.80246914],\n",
       "       [ 13.80246914],\n",
       "       [ 15.80246914],\n",
       "       [ 14.80246914],\n",
       "       [ 15.80246914],\n",
       "       [ 14.80246914],\n",
       "       [ 12.80246914],\n",
       "       [ 14.80246914],\n",
       "       [ 13.80246914],\n",
       "       [ 14.80246914],\n",
       "       [ 13.80246914],\n",
       "       [ 14.80246914],\n",
       "       [ 14.80246914],\n",
       "       [ 12.80246914],\n",
       "       [ 14.80246914],\n",
       "       [ 15.80246914],\n",
       "       [ 14.80246914],\n",
       "       [ 14.80246914],\n",
       "       [ 14.80246914],\n",
       "       [ 15.80246914],\n",
       "       [ 15.80246914],\n",
       "       [ 15.80246914]])"
      ]
     },
     "execution_count": 68,
     "metadata": {},
     "output_type": "execute_result"
    }
   ],
   "source": [
    "X"
   ]
  },
  {
   "cell_type": "code",
   "execution_count": 5,
   "id": "2c0c62a7",
   "metadata": {
    "scrolled": false
   },
   "outputs": [
    {
     "data": {
      "text/plain": [
       "<matplotlib.collections.PathCollection at 0x29479fc40>"
      ]
     },
     "execution_count": 5,
     "metadata": {},
     "output_type": "execute_result"
    },
    {
     "data": {
      "image/png": "[encoded data removed]",
      "text/plain": [
       "<Figure size 640x480 with 1 Axes>"
      ]
     },
     "metadata": {},
     "output_type": "display_data"
    }
   ],
   "source": [
    "Y = np.log(Y)\n",
    "plt.scatter(X,Y)"
   ]
  },
  {
   "cell_type": "code",
   "execution_count": 36,
   "id": "bd5f1ec7",
   "metadata": {},
   "outputs": [
    {
     "data": {
      "text/plain": [
       "16.143848147060737"
      ]
     },
     "execution_count": 36,
     "metadata": {},
     "output_type": "execute_result"
    }
   ],
   "source": [
    "deno = (Y.max()-Y.min())\n",
    "deno"
   ]
  },
  {
   "cell_type": "code",
   "execution_count": 6,
   "id": "32340e44",
   "metadata": {},
   "outputs": [
    {
     "data": {
      "text/plain": [
       "<matplotlib.collections.PathCollection at 0x2948e2950>"
      ]
     },
     "execution_count": 6,
     "metadata": {},
     "output_type": "execute_result"
    },
    {
     "data": {
      "image/png": "[encoded data removed]",
      "text/plain": [
       "<Figure size 640x480 with 1 Axes>"
      ]
     },
     "metadata": {},
     "output_type": "display_data"
    }
   ],
   "source": [
    "X = X - X.mean()\n",
    "Y = Y/(Y.max()-Y.min())\n",
    "plt.scatter(X,Y)"
   ]
  },
  {
   "cell_type": "code",
   "execution_count": 7,
   "id": "d9183ac8",
   "metadata": {},
   "outputs": [],
   "source": [
    "model = tf.keras.models.Sequential([\n",
    "    tf.keras.layers.Input(shape=(1,)),\n",
    "    tf.keras.layers.Dense(1)])"
   ]
  },
  {
   "cell_type": "code",
   "execution_count": 8,
   "id": "db936bfd",
   "metadata": {},
   "outputs": [
    {
     "data": {
      "text/plain": [
       "(None,)"
      ]
     },
     "execution_count": 8,
     "metadata": {},
     "output_type": "execute_result"
    }
   ],
   "source": [
    "model.compile(\n",
    "    optimizer=tf.keras.optimizers.legacy.SGD(0.001,0.9),\n",
    "    loss = \"mse\"),\n"
   ]
  },
  {
   "cell_type": "code",
   "execution_count": 9,
   "id": "d81bd729",
   "metadata": {},
   "outputs": [],
   "source": [
    "def schedule(epoch, lr):\n",
    "    if epoch>50:\n",
    "        return 0.0001\n",
    "    return 0.001"
   ]
  },
  {
   "cell_type": "code",
   "execution_count": 10,
   "id": "b95e2929",
   "metadata": {},
   "outputs": [],
   "source": [
    "scheduler = tf.keras.callbacks.LearningRateScheduler(schedule)"
   ]
  },
  {
   "cell_type": "code",
   "execution_count": 11,
   "id": "30307651",
   "metadata": {},
   "outputs": [
    {
     "name": "stdout",
     "output_type": "stream",
     "text": [
      "Epoch 1/200\n",
      "6/6 [==============================] - 0s 646us/step - loss: 223.2461 - lr: 0.0010\n",
      "Epoch 2/200\n",
      "6/6 [==============================] - 0s 469us/step - loss: 117.4845 - lr: 0.0010\n",
      "Epoch 3/200\n",
      "6/6 [==============================] - 0s 472us/step - loss: 50.8666 - lr: 0.0010\n",
      "Epoch 4/200\n",
      "6/6 [==============================] - 0s 560us/step - loss: 20.0171 - lr: 0.0010\n",
      "Epoch 5/200\n",
      "6/6 [==============================] - 0s 520us/step - loss: 5.9390 - lr: 0.0010\n",
      "Epoch 6/200\n",
      "6/6 [==============================] - 0s 509us/step - loss: 3.8554 - lr: 0.0010\n",
      "Epoch 7/200\n",
      "6/6 [==============================] - 0s 459us/step - loss: 2.6601 - lr: 0.0010\n",
      "Epoch 8/200\n",
      "6/6 [==============================] - 0s 542us/step - loss: 2.0536 - lr: 0.0010\n",
      "Epoch 9/200\n",
      "6/6 [==============================] - 0s 524us/step - loss: 1.0143 - lr: 0.0010\n",
      "Epoch 10/200\n",
      "6/6 [==============================] - 0s 591us/step - loss: 0.6586 - lr: 0.0010\n",
      "Epoch 11/200\n",
      "6/6 [==============================] - 0s 520us/step - loss: 0.2291 - lr: 0.0010\n",
      "Epoch 12/200\n",
      "6/6 [==============================] - 0s 562us/step - loss: 0.1156 - lr: 0.0010\n",
      "Epoch 13/200\n",
      "6/6 [==============================] - 0s 521us/step - loss: 0.0787 - lr: 0.0010\n",
      "Epoch 14/200\n",
      "6/6 [==============================] - 0s 577us/step - loss: 0.0555 - lr: 0.0010\n",
      "Epoch 15/200\n",
      "6/6 [==============================] - 0s 484us/step - loss: 0.0559 - lr: 0.0010\n",
      "Epoch 16/200\n",
      "6/6 [==============================] - 0s 528us/step - loss: 0.0344 - lr: 0.0010\n",
      "Epoch 17/200\n",
      "6/6 [==============================] - 0s 570us/step - loss: 0.0227 - lr: 0.0010\n",
      "Epoch 18/200\n",
      "6/6 [==============================] - 0s 545us/step - loss: 0.0140 - lr: 0.0010\n",
      "Epoch 19/200\n",
      "6/6 [==============================] - 0s 506us/step - loss: 0.0109 - lr: 0.0010\n",
      "Epoch 20/200\n",
      "6/6 [==============================] - 0s 516us/step - loss: 0.0128 - lr: 0.0010\n",
      "Epoch 21/200\n",
      "6/6 [==============================] - 0s 467us/step - loss: 0.0134 - lr: 0.0010\n",
      "Epoch 22/200\n",
      "6/6 [==============================] - 0s 495us/step - loss: 0.0131 - lr: 0.0010\n",
      "Epoch 23/200\n",
      "6/6 [==============================] - 0s 525us/step - loss: 0.0093 - lr: 0.0010\n",
      "Epoch 24/200\n",
      "6/6 [==============================] - 0s 471us/step - loss: 0.0053 - lr: 0.0010\n",
      "Epoch 25/200\n",
      "6/6 [==============================] - 0s 531us/step - loss: 0.0045 - lr: 0.0010\n",
      "Epoch 26/200\n",
      "6/6 [==============================] - 0s 531us/step - loss: 0.0054 - lr: 0.0010\n",
      "Epoch 27/200\n",
      "6/6 [==============================] - 0s 467us/step - loss: 0.0058 - lr: 0.0010\n",
      "Epoch 28/200\n",
      "6/6 [==============================] - 0s 418us/step - loss: 0.0046 - lr: 0.0010\n",
      "Epoch 29/200\n",
      "6/6 [==============================] - 0s 484us/step - loss: 0.0046 - lr: 0.0010\n",
      "Epoch 30/200\n",
      "6/6 [==============================] - 0s 531us/step - loss: 0.0037 - lr: 0.0010\n",
      "Epoch 31/200\n",
      "6/6 [==============================] - 0s 452us/step - loss: 0.0038 - lr: 0.0010\n",
      "Epoch 32/200\n",
      "6/6 [==============================] - 0s 427us/step - loss: 0.0035 - lr: 0.0010\n",
      "Epoch 33/200\n",
      "6/6 [==============================] - 0s 628us/step - loss: 0.0036 - lr: 0.0010\n",
      "Epoch 34/200\n",
      "6/6 [==============================] - 0s 465us/step - loss: 0.0034 - lr: 0.0010\n",
      "Epoch 35/200\n",
      "6/6 [==============================] - 0s 542us/step - loss: 0.0045 - lr: 0.0010\n",
      "Epoch 36/200\n",
      "6/6 [==============================] - 0s 455us/step - loss: 0.0048 - lr: 0.0010\n",
      "Epoch 37/200\n",
      "6/6 [==============================] - 0s 505us/step - loss: 0.0042 - lr: 0.0010\n",
      "Epoch 38/200\n",
      "6/6 [==============================] - 0s 517us/step - loss: 0.0036 - lr: 0.0010\n",
      "Epoch 39/200\n",
      "6/6 [==============================] - 0s 478us/step - loss: 0.0035 - lr: 0.0010\n",
      "Epoch 40/200\n",
      "6/6 [==============================] - 0s 490us/step - loss: 0.0035 - lr: 0.0010\n",
      "Epoch 41/200\n",
      "6/6 [==============================] - 0s 473us/step - loss: 0.0034 - lr: 0.0010\n",
      "Epoch 42/200\n",
      "6/6 [==============================] - 0s 538us/step - loss: 0.0036 - lr: 0.0010\n",
      "Epoch 43/200\n",
      "6/6 [==============================] - 0s 522us/step - loss: 0.0034 - lr: 0.0010\n",
      "Epoch 44/200\n",
      "6/6 [==============================] - 0s 417us/step - loss: 0.0034 - lr: 0.0010\n",
      "Epoch 45/200\n",
      "6/6 [==============================] - 0s 479us/step - loss: 0.0035 - lr: 0.0010\n",
      "Epoch 46/200\n",
      "6/6 [==============================] - 0s 469us/step - loss: 0.0035 - lr: 0.0010\n",
      "Epoch 47/200\n",
      "6/6 [==============================] - 0s 568us/step - loss: 0.0038 - lr: 0.0010\n",
      "Epoch 48/200\n",
      "6/6 [==============================] - 0s 479us/step - loss: 0.0035 - lr: 0.0010\n",
      "Epoch 49/200\n",
      "6/6 [==============================] - 0s 438us/step - loss: 0.0037 - lr: 0.0010\n",
      "Epoch 50/200\n",
      "6/6 [==============================] - 0s 577us/step - loss: 0.0037 - lr: 0.0010\n",
      "Epoch 51/200\n",
      "6/6 [==============================] - 0s 494us/step - loss: 0.0036 - lr: 0.0010\n",
      "Epoch 52/200\n",
      "6/6 [==============================] - 0s 510us/step - loss: 0.0085 - lr: 1.0000e-04\n",
      "Epoch 53/200\n",
      "6/6 [==============================] - 0s 479us/step - loss: 0.0105 - lr: 1.0000e-04\n",
      "Epoch 54/200\n",
      "6/6 [==============================] - 0s 526us/step - loss: 0.0040 - lr: 1.0000e-04\n",
      "Epoch 55/200\n",
      "6/6 [==============================] - 0s 502us/step - loss: 0.0041 - lr: 1.0000e-04\n",
      "Epoch 56/200\n",
      "6/6 [==============================] - 0s 576us/step - loss: 0.0043 - lr: 1.0000e-04\n",
      "Epoch 57/200\n",
      "6/6 [==============================] - 0s 546us/step - loss: 0.0035 - lr: 1.0000e-04\n",
      "Epoch 58/200\n",
      "6/6 [==============================] - 0s 553us/step - loss: 0.0034 - lr: 1.0000e-04\n",
      "Epoch 59/200\n",
      "6/6 [==============================] - 0s 573us/step - loss: 0.0035 - lr: 1.0000e-04\n",
      "Epoch 60/200\n",
      "6/6 [==============================] - 0s 525us/step - loss: 0.0034 - lr: 1.0000e-04\n",
      "Epoch 61/200\n",
      "6/6 [==============================] - 0s 464us/step - loss: 0.0034 - lr: 1.0000e-04\n",
      "Epoch 62/200\n",
      "6/6 [==============================] - 0s 498us/step - loss: 0.0034 - lr: 1.0000e-04\n",
      "Epoch 63/200\n",
      "6/6 [==============================] - 0s 500us/step - loss: 0.0034 - lr: 1.0000e-04\n",
      "Epoch 64/200\n",
      "6/6 [==============================] - 0s 534us/step - loss: 0.0034 - lr: 1.0000e-04\n",
      "Epoch 65/200\n",
      "6/6 [==============================] - 0s 420us/step - loss: 0.0033 - lr: 1.0000e-04\n",
      "Epoch 66/200\n",
      "6/6 [==============================] - 0s 473us/step - loss: 0.0034 - lr: 1.0000e-04\n",
      "Epoch 67/200\n",
      "6/6 [==============================] - 0s 545us/step - loss: 0.0034 - lr: 1.0000e-04\n",
      "Epoch 68/200\n",
      "6/6 [==============================] - 0s 519us/step - loss: 0.0034 - lr: 1.0000e-04\n",
      "Epoch 69/200\n",
      "6/6 [==============================] - 0s 501us/step - loss: 0.0033 - lr: 1.0000e-04\n",
      "Epoch 70/200\n",
      "6/6 [==============================] - 0s 454us/step - loss: 0.0034 - lr: 1.0000e-04\n",
      "Epoch 71/200\n",
      "6/6 [==============================] - 0s 499us/step - loss: 0.0034 - lr: 1.0000e-04\n",
      "Epoch 72/200\n",
      "6/6 [==============================] - 0s 490us/step - loss: 0.0034 - lr: 1.0000e-04\n",
      "Epoch 73/200\n",
      "6/6 [==============================] - 0s 467us/step - loss: 0.0034 - lr: 1.0000e-04\n",
      "Epoch 74/200\n",
      "6/6 [==============================] - 0s 429us/step - loss: 0.0034 - lr: 1.0000e-04\n",
      "Epoch 75/200\n",
      "6/6 [==============================] - 0s 435us/step - loss: 0.0034 - lr: 1.0000e-04\n",
      "Epoch 76/200\n",
      "6/6 [==============================] - 0s 484us/step - loss: 0.0034 - lr: 1.0000e-04\n",
      "Epoch 77/200\n",
      "6/6 [==============================] - 0s 476us/step - loss: 0.0036 - lr: 1.0000e-04\n",
      "Epoch 78/200\n",
      "6/6 [==============================] - 0s 505us/step - loss: 0.0035 - lr: 1.0000e-04\n",
      "Epoch 79/200\n",
      "6/6 [==============================] - 0s 479us/step - loss: 0.0033 - lr: 1.0000e-04\n",
      "Epoch 80/200\n",
      "6/6 [==============================] - 0s 442us/step - loss: 0.0036 - lr: 1.0000e-04\n",
      "Epoch 81/200\n",
      "6/6 [==============================] - 0s 579us/step - loss: 0.0034 - lr: 1.0000e-04\n",
      "Epoch 82/200\n",
      "6/6 [==============================] - 0s 490us/step - loss: 0.0034 - lr: 1.0000e-04\n",
      "Epoch 83/200\n",
      "6/6 [==============================] - 0s 463us/step - loss: 0.0034 - lr: 1.0000e-04\n",
      "Epoch 84/200\n",
      "6/6 [==============================] - 0s 497us/step - loss: 0.0034 - lr: 1.0000e-04\n",
      "Epoch 85/200\n",
      "6/6 [==============================] - 0s 535us/step - loss: 0.0033 - lr: 1.0000e-04\n",
      "Epoch 86/200\n"
     ]
    },
    {
     "name": "stdout",
     "output_type": "stream",
     "text": [
      "6/6 [==============================] - 0s 518us/step - loss: 0.0033 - lr: 1.0000e-04\n",
      "Epoch 87/200\n",
      "6/6 [==============================] - 0s 451us/step - loss: 0.0033 - lr: 1.0000e-04\n",
      "Epoch 88/200\n",
      "6/6 [==============================] - 0s 487us/step - loss: 0.0034 - lr: 1.0000e-04\n",
      "Epoch 89/200\n",
      "6/6 [==============================] - 0s 501us/step - loss: 0.0034 - lr: 1.0000e-04\n",
      "Epoch 90/200\n",
      "6/6 [==============================] - 0s 530us/step - loss: 0.0034 - lr: 1.0000e-04\n",
      "Epoch 91/200\n",
      "6/6 [==============================] - 0s 497us/step - loss: 0.0034 - lr: 1.0000e-04\n",
      "Epoch 92/200\n",
      "6/6 [==============================] - 0s 465us/step - loss: 0.0034 - lr: 1.0000e-04\n",
      "Epoch 93/200\n",
      "6/6 [==============================] - 0s 472us/step - loss: 0.0034 - lr: 1.0000e-04\n",
      "Epoch 94/200\n",
      "6/6 [==============================] - 0s 447us/step - loss: 0.0034 - lr: 1.0000e-04\n",
      "Epoch 95/200\n",
      "6/6 [==============================] - 0s 424us/step - loss: 0.0034 - lr: 1.0000e-04\n",
      "Epoch 96/200\n",
      "6/6 [==============================] - 0s 484us/step - loss: 0.0034 - lr: 1.0000e-04\n",
      "Epoch 97/200\n",
      "6/6 [==============================] - 0s 457us/step - loss: 0.0033 - lr: 1.0000e-04\n",
      "Epoch 98/200\n",
      "6/6 [==============================] - 0s 515us/step - loss: 0.0034 - lr: 1.0000e-04\n",
      "Epoch 99/200\n",
      "6/6 [==============================] - 0s 571us/step - loss: 0.0034 - lr: 1.0000e-04\n",
      "Epoch 100/200\n",
      "6/6 [==============================] - 0s 471us/step - loss: 0.0034 - lr: 1.0000e-04\n",
      "Epoch 101/200\n",
      "6/6 [==============================] - 0s 526us/step - loss: 0.0034 - lr: 1.0000e-04\n",
      "Epoch 102/200\n",
      "6/6 [==============================] - 0s 459us/step - loss: 0.0033 - lr: 1.0000e-04\n",
      "Epoch 103/200\n",
      "6/6 [==============================] - 0s 438us/step - loss: 0.0034 - lr: 1.0000e-04\n",
      "Epoch 104/200\n",
      "6/6 [==============================] - 0s 524us/step - loss: 0.0034 - lr: 1.0000e-04\n",
      "Epoch 105/200\n",
      "6/6 [==============================] - 0s 464us/step - loss: 0.0033 - lr: 1.0000e-04\n",
      "Epoch 106/200\n",
      "6/6 [==============================] - 0s 484us/step - loss: 0.0034 - lr: 1.0000e-04\n",
      "Epoch 107/200\n",
      "6/6 [==============================] - 0s 483us/step - loss: 0.0034 - lr: 1.0000e-04\n",
      "Epoch 108/200\n",
      "6/6 [==============================] - 0s 456us/step - loss: 0.0033 - lr: 1.0000e-04\n",
      "Epoch 109/200\n",
      "6/6 [==============================] - 0s 435us/step - loss: 0.0033 - lr: 1.0000e-04\n",
      "Epoch 110/200\n",
      "6/6 [==============================] - 0s 435us/step - loss: 0.0034 - lr: 1.0000e-04\n",
      "Epoch 111/200\n",
      "6/6 [==============================] - 0s 495us/step - loss: 0.0034 - lr: 1.0000e-04\n",
      "Epoch 112/200\n",
      "6/6 [==============================] - 0s 453us/step - loss: 0.0034 - lr: 1.0000e-04\n",
      "Epoch 113/200\n",
      "6/6 [==============================] - 0s 495us/step - loss: 0.0034 - lr: 1.0000e-04\n",
      "Epoch 114/200\n",
      "6/6 [==============================] - 0s 488us/step - loss: 0.0033 - lr: 1.0000e-04\n",
      "Epoch 115/200\n",
      "6/6 [==============================] - 0s 531us/step - loss: 0.0034 - lr: 1.0000e-04\n",
      "Epoch 116/200\n",
      "6/6 [==============================] - 0s 499us/step - loss: 0.0034 - lr: 1.0000e-04\n",
      "Epoch 117/200\n",
      "6/6 [==============================] - 0s 541us/step - loss: 0.0034 - lr: 1.0000e-04\n",
      "Epoch 118/200\n",
      "6/6 [==============================] - 0s 475us/step - loss: 0.0034 - lr: 1.0000e-04\n",
      "Epoch 119/200\n",
      "6/6 [==============================] - 0s 505us/step - loss: 0.0034 - lr: 1.0000e-04\n",
      "Epoch 120/200\n",
      "6/6 [==============================] - 0s 480us/step - loss: 0.0034 - lr: 1.0000e-04\n",
      "Epoch 121/200\n",
      "6/6 [==============================] - 0s 444us/step - loss: 0.0034 - lr: 1.0000e-04\n",
      "Epoch 122/200\n",
      "6/6 [==============================] - 0s 476us/step - loss: 0.0034 - lr: 1.0000e-04\n",
      "Epoch 123/200\n",
      "6/6 [==============================] - 0s 502us/step - loss: 0.0034 - lr: 1.0000e-04\n",
      "Epoch 124/200\n",
      "6/6 [==============================] - 0s 486us/step - loss: 0.0034 - lr: 1.0000e-04\n",
      "Epoch 125/200\n",
      "6/6 [==============================] - 0s 518us/step - loss: 0.0033 - lr: 1.0000e-04\n",
      "Epoch 126/200\n",
      "6/6 [==============================] - 0s 489us/step - loss: 0.0033 - lr: 1.0000e-04\n",
      "Epoch 127/200\n",
      "6/6 [==============================] - 0s 444us/step - loss: 0.0034 - lr: 1.0000e-04\n",
      "Epoch 128/200\n",
      "6/6 [==============================] - 0s 556us/step - loss: 0.0034 - lr: 1.0000e-04\n",
      "Epoch 129/200\n",
      "6/6 [==============================] - 0s 459us/step - loss: 0.0033 - lr: 1.0000e-04\n",
      "Epoch 130/200\n",
      "6/6 [==============================] - 0s 510us/step - loss: 0.0034 - lr: 1.0000e-04\n",
      "Epoch 131/200\n",
      "6/6 [==============================] - 0s 449us/step - loss: 0.0034 - lr: 1.0000e-04\n",
      "Epoch 132/200\n",
      "6/6 [==============================] - 0s 497us/step - loss: 0.0033 - lr: 1.0000e-04\n",
      "Epoch 133/200\n",
      "6/6 [==============================] - 0s 496us/step - loss: 0.0034 - lr: 1.0000e-04\n",
      "Epoch 134/200\n",
      "6/6 [==============================] - 0s 483us/step - loss: 0.0034 - lr: 1.0000e-04\n",
      "Epoch 135/200\n",
      "6/6 [==============================] - 0s 434us/step - loss: 0.0034 - lr: 1.0000e-04\n",
      "Epoch 136/200\n",
      "6/6 [==============================] - 0s 519us/step - loss: 0.0034 - lr: 1.0000e-04\n",
      "Epoch 137/200\n",
      "6/6 [==============================] - 0s 481us/step - loss: 0.0033 - lr: 1.0000e-04\n",
      "Epoch 138/200\n",
      "6/6 [==============================] - 0s 477us/step - loss: 0.0034 - lr: 1.0000e-04\n",
      "Epoch 139/200\n",
      "6/6 [==============================] - 0s 478us/step - loss: 0.0034 - lr: 1.0000e-04\n",
      "Epoch 140/200\n",
      "6/6 [==============================] - 0s 472us/step - loss: 0.0033 - lr: 1.0000e-04\n",
      "Epoch 141/200\n",
      "6/6 [==============================] - 0s 568us/step - loss: 0.0034 - lr: 1.0000e-04\n",
      "Epoch 142/200\n",
      "6/6 [==============================] - 0s 455us/step - loss: 0.0034 - lr: 1.0000e-04\n",
      "Epoch 143/200\n",
      "6/6 [==============================] - 0s 503us/step - loss: 0.0034 - lr: 1.0000e-04\n",
      "Epoch 144/200\n",
      "6/6 [==============================] - 0s 495us/step - loss: 0.0033 - lr: 1.0000e-04\n",
      "Epoch 145/200\n",
      "6/6 [==============================] - 0s 445us/step - loss: 0.0033 - lr: 1.0000e-04\n",
      "Epoch 146/200\n",
      "6/6 [==============================] - 0s 517us/step - loss: 0.0034 - lr: 1.0000e-04\n",
      "Epoch 147/200\n",
      "6/6 [==============================] - 0s 484us/step - loss: 0.0033 - lr: 1.0000e-04\n",
      "Epoch 148/200\n",
      "6/6 [==============================] - 0s 485us/step - loss: 0.0034 - lr: 1.0000e-04\n",
      "Epoch 149/200\n",
      "6/6 [==============================] - 0s 462us/step - loss: 0.0034 - lr: 1.0000e-04\n",
      "Epoch 150/200\n",
      "6/6 [==============================] - 0s 435us/step - loss: 0.0033 - lr: 1.0000e-04\n",
      "Epoch 151/200\n",
      "6/6 [==============================] - 0s 499us/step - loss: 0.0033 - lr: 1.0000e-04\n",
      "Epoch 152/200\n",
      "6/6 [==============================] - 0s 476us/step - loss: 0.0034 - lr: 1.0000e-04\n",
      "Epoch 153/200\n",
      "6/6 [==============================] - 0s 467us/step - loss: 0.0034 - lr: 1.0000e-04\n",
      "Epoch 154/200\n",
      "6/6 [==============================] - 0s 445us/step - loss: 0.0033 - lr: 1.0000e-04\n",
      "Epoch 155/200\n",
      "6/6 [==============================] - 0s 513us/step - loss: 0.0034 - lr: 1.0000e-04\n",
      "Epoch 156/200\n",
      "6/6 [==============================] - 0s 477us/step - loss: 0.0033 - lr: 1.0000e-04\n",
      "Epoch 157/200\n",
      "6/6 [==============================] - 0s 462us/step - loss: 0.0034 - lr: 1.0000e-04\n",
      "Epoch 158/200\n",
      "6/6 [==============================] - 0s 538us/step - loss: 0.0034 - lr: 1.0000e-04\n",
      "Epoch 159/200\n",
      "6/6 [==============================] - 0s 473us/step - loss: 0.0033 - lr: 1.0000e-04\n",
      "Epoch 160/200\n",
      "6/6 [==============================] - 0s 439us/step - loss: 0.0034 - lr: 1.0000e-04\n",
      "Epoch 161/200\n",
      "6/6 [==============================] - 0s 456us/step - loss: 0.0034 - lr: 1.0000e-04\n",
      "Epoch 162/200\n",
      "6/6 [==============================] - 0s 468us/step - loss: 0.0033 - lr: 1.0000e-04\n",
      "Epoch 163/200\n",
      "6/6 [==============================] - 0s 428us/step - loss: 0.0034 - lr: 1.0000e-04\n",
      "Epoch 164/200\n",
      "6/6 [==============================] - 0s 505us/step - loss: 0.0034 - lr: 1.0000e-04\n",
      "Epoch 165/200\n",
      "6/6 [==============================] - 0s 433us/step - loss: 0.0034 - lr: 1.0000e-04\n",
      "Epoch 166/200\n",
      "6/6 [==============================] - 0s 457us/step - loss: 0.0034 - lr: 1.0000e-04\n",
      "Epoch 167/200\n",
      "6/6 [==============================] - 0s 393us/step - loss: 0.0035 - lr: 1.0000e-04\n",
      "Epoch 168/200\n",
      "6/6 [==============================] - 0s 501us/step - loss: 0.0034 - lr: 1.0000e-04\n",
      "Epoch 169/200\n"
     ]
    },
    {
     "name": "stdout",
     "output_type": "stream",
     "text": [
      "6/6 [==============================] - 0s 481us/step - loss: 0.0036 - lr: 1.0000e-04\n",
      "Epoch 170/200\n",
      "6/6 [==============================] - 0s 461us/step - loss: 0.0036 - lr: 1.0000e-04\n",
      "Epoch 171/200\n",
      "6/6 [==============================] - 0s 479us/step - loss: 0.0034 - lr: 1.0000e-04\n",
      "Epoch 172/200\n",
      "6/6 [==============================] - 0s 536us/step - loss: 0.0034 - lr: 1.0000e-04\n",
      "Epoch 173/200\n",
      "6/6 [==============================] - 0s 431us/step - loss: 0.0034 - lr: 1.0000e-04\n",
      "Epoch 174/200\n",
      "6/6 [==============================] - 0s 446us/step - loss: 0.0034 - lr: 1.0000e-04\n",
      "Epoch 175/200\n",
      "6/6 [==============================] - 0s 453us/step - loss: 0.0035 - lr: 1.0000e-04\n",
      "Epoch 176/200\n",
      "6/6 [==============================] - 0s 521us/step - loss: 0.0034 - lr: 1.0000e-04\n",
      "Epoch 177/200\n",
      "6/6 [==============================] - 0s 497us/step - loss: 0.0034 - lr: 1.0000e-04\n",
      "Epoch 178/200\n",
      "6/6 [==============================] - 0s 427us/step - loss: 0.0033 - lr: 1.0000e-04\n",
      "Epoch 179/200\n",
      "6/6 [==============================] - 0s 469us/step - loss: 0.0034 - lr: 1.0000e-04\n",
      "Epoch 180/200\n",
      "6/6 [==============================] - 0s 437us/step - loss: 0.0034 - lr: 1.0000e-04\n",
      "Epoch 181/200\n",
      "6/6 [==============================] - 0s 453us/step - loss: 0.0034 - lr: 1.0000e-04\n",
      "Epoch 182/200\n",
      "6/6 [==============================] - 0s 448us/step - loss: 0.0034 - lr: 1.0000e-04\n",
      "Epoch 183/200\n",
      "6/6 [==============================] - 0s 483us/step - loss: 0.0034 - lr: 1.0000e-04\n",
      "Epoch 184/200\n",
      "6/6 [==============================] - 0s 449us/step - loss: 0.0033 - lr: 1.0000e-04\n",
      "Epoch 185/200\n",
      "6/6 [==============================] - 0s 515us/step - loss: 0.0033 - lr: 1.0000e-04\n",
      "Epoch 186/200\n",
      "6/6 [==============================] - 0s 456us/step - loss: 0.0033 - lr: 1.0000e-04\n",
      "Epoch 187/200\n",
      "6/6 [==============================] - 0s 433us/step - loss: 0.0034 - lr: 1.0000e-04\n",
      "Epoch 188/200\n",
      "6/6 [==============================] - 0s 485us/step - loss: 0.0034 - lr: 1.0000e-04\n",
      "Epoch 189/200\n",
      "6/6 [==============================] - 0s 472us/step - loss: 0.0034 - lr: 1.0000e-04\n",
      "Epoch 190/200\n",
      "6/6 [==============================] - 0s 503us/step - loss: 0.0034 - lr: 1.0000e-04\n",
      "Epoch 191/200\n",
      "6/6 [==============================] - 0s 418us/step - loss: 0.0034 - lr: 1.0000e-04\n",
      "Epoch 192/200\n",
      "6/6 [==============================] - 0s 429us/step - loss: 0.0035 - lr: 1.0000e-04\n",
      "Epoch 193/200\n",
      "6/6 [==============================] - 0s 458us/step - loss: 0.0034 - lr: 1.0000e-04\n",
      "Epoch 194/200\n",
      "6/6 [==============================] - 0s 520us/step - loss: 0.0034 - lr: 1.0000e-04\n",
      "Epoch 195/200\n",
      "6/6 [==============================] - 0s 483us/step - loss: 0.0034 - lr: 1.0000e-04\n",
      "Epoch 196/200\n",
      "6/6 [==============================] - 0s 423us/step - loss: 0.0034 - lr: 1.0000e-04\n",
      "Epoch 197/200\n",
      "6/6 [==============================] - 0s 477us/step - loss: 0.0036 - lr: 1.0000e-04\n",
      "Epoch 198/200\n",
      "6/6 [==============================] - 0s 446us/step - loss: 0.0034 - lr: 1.0000e-04\n",
      "Epoch 199/200\n",
      "6/6 [==============================] - 0s 486us/step - loss: 0.0033 - lr: 1.0000e-04\n",
      "Epoch 200/200\n",
      "6/6 [==============================] - 0s 459us/step - loss: 0.0033 - lr: 1.0000e-04\n"
     ]
    }
   ],
   "source": [
    "r = model.fit(X,Y,epochs=200,callbacks=[scheduler])"
   ]
  },
  {
   "cell_type": "code",
   "execution_count": 12,
   "id": "aa06fbaa",
   "metadata": {},
   "outputs": [
    {
     "data": {
      "text/plain": [
       "<matplotlib.legend.Legend at 0x294726da0>"
      ]
     },
     "execution_count": 12,
     "metadata": {},
     "output_type": "execute_result"
    },
    {
     "data": {
      "image/png": "[encoded data removed]",
      "text/plain": [
       "<Figure size 640x480 with 1 Axes>"
      ]
     },
     "metadata": {},
     "output_type": "display_data"
    }
   ],
   "source": [
    "plt.plot(r.history[\"loss\"],label = \"loss\")\n",
    "plt.legend()"
   ]
  },
  {
   "cell_type": "code",
   "execution_count": 72,
   "id": "8ee96afe",
   "metadata": {},
   "outputs": [],
   "source": [
    "a = model.layers[0].get_weights()[0]\n",
    "b =model.layers[0].get_weights()[1]\n",
    "res = a.dot(np.array([0.2]))+model.layers[0].get_weights()[1]"
   ]
  },
  {
   "cell_type": "code",
   "execution_count": 57,
   "id": "a5fb1205",
   "metadata": {},
   "outputs": [
    {
     "data": {
      "text/plain": [
       "array([17.84743453])"
      ]
     },
     "execution_count": 57,
     "metadata": {},
     "output_type": "execute_result"
    }
   ],
   "source": [
    "res = res*deno\n"
   ]
  },
  {
   "cell_type": "code",
   "execution_count": 61,
   "id": "429a4462",
   "metadata": {},
   "outputs": [
    {
     "data": {
      "text/plain": [
       "(2002.3975308641975, array([56369259.58216538]))"
      ]
     },
     "execution_count": 61,
     "metadata": {},
     "output_type": "execute_result"
    }
   ],
   "source": [
    "y_res = np.power(np.e,res)\n",
    "x_res = 0.2 + 2002.1975308641975\n",
    "x_res,y_res"
   ]
  },
  {
   "cell_type": "code",
   "execution_count": 71,
   "id": "aea20761",
   "metadata": {},
   "outputs": [
    {
     "data": {
      "text/plain": [
       "<matplotlib.collections.PathCollection at 0x29f54fd60>"
      ]
     },
     "execution_count": 71,
     "metadata": {},
     "output_type": "execute_result"
    },
    {
     "data": {
      "image/png": "[encoded data removed]",
      "text/plain": [
       "<Figure size 640x480 with 1 Axes>"
      ]
     },
     "metadata": {},
     "output_type": "display_data"
    }
   ],
   "source": [
    "x = X\n",
    "y = a*x+model.layers[0].get_weights()[1]\n",
    "y = y*deno\n",
    "y = np.power(np.e,y)\n",
    "x += 2002.1975308641975\n",
    "plt.scatter(x,y)"
   ]
  },
  {
   "cell_type": "code",
   "execution_count": 76,
   "id": "cf40a605",
   "metadata": {},
   "outputs": [],
   "source": [
    "def predict_the_number_of_trans(year):\n",
    "    year = year - 2002.1975308641975\n",
    "    trans = a*year+b\n",
    "    trans = trans*deno\n",
    "    trans = np.power(np.e,trans)\n",
    "    return trans"
   ]
  },
  {
   "cell_type": "code",
   "execution_count": 101,
   "id": "1bd27e3b",
   "metadata": {},
   "outputs": [],
   "source": [
    "data.sort(0)\n",
    "def find_the_y_for_year(year):\n",
    "    count = 0\n",
    "    sum = 0\n",
    "    for i in range(162):\n",
    "        if(data[i][0]==year):\n",
    "            count+=1\n",
    "            sum+=data[i][1]\n",
    "    sum=sum/count\n",
    "    return sum"
   ]
  },
  {
   "cell_type": "code",
   "execution_count": 104,
   "id": "d959f15a",
   "metadata": {},
   "outputs": [
    {
     "data": {
      "text/plain": [
       "43500000.0"
      ]
     },
     "execution_count": 104,
     "metadata": {},
     "output_type": "execute_result"
    }
   ],
   "source": [
    "find_the_y_for_year(2001)"
   ]
  },
  {
   "cell_type": "code",
   "execution_count": 107,
   "id": "dfe749e1",
   "metadata": {},
   "outputs": [],
   "source": [
    "error = []\n",
    "for i in range(162):\n",
    "    year = data[i][0]\n",
    "    trans = data[i][1]\n",
    "    predict_trans = predict_the_number_of_trans(year)\n",
    "    error.append(abs(predict_trans-trans))"
   ]
  },
  {
   "cell_type": "code",
   "execution_count": 125,
   "id": "c8e722c4",
   "metadata": {},
   "outputs": [
    {
     "data": {
      "text/plain": [
       "[<matplotlib.lines.Line2D at 0x2acd86b30>]"
      ]
     },
     "execution_count": 125,
     "metadata": {},
     "output_type": "execute_result"
    },
    {
     "data": {
      "image/png": "[encoded data removed]",
      "text/plain": [
       "<Figure size 640x480 with 1 Axes>"
      ]
     },
     "metadata": {},
     "output_type": "display_data"
    }
   ],
   "source": [
    "plt.plot(error)"
   ]
  },
  {
   "cell_type": "code",
   "execution_count": 109,
   "id": "c7db0976",
   "metadata": {},
   "outputs": [
    {
     "data": {
      "text/plain": [
       "array([854050.75], dtype=float32)"
      ]
     },
     "execution_count": 109,
     "metadata": {},
     "output_type": "execute_result"
    }
   ],
   "source": [
    "predict_the_number_of_trans(1990)"
   ]
  },
  {
   "cell_type": "code",
   "execution_count": 110,
   "id": "5faefce3",
   "metadata": {},
   "outputs": [
    {
     "data": {
      "text/plain": [
       "600000.0"
      ]
     },
     "execution_count": 110,
     "metadata": {},
     "output_type": "execute_result"
    }
   ],
   "source": [
    "find_the_y_for_year(1990)"
   ]
  },
  {
   "cell_type": "code",
   "execution_count": 114,
   "id": "a4af0f36",
   "metadata": {},
   "outputs": [
    {
     "data": {
      "text/plain": [
       "29.746563655614146"
      ]
     },
     "execution_count": 114,
     "metadata": {},
     "output_type": "execute_result"
    }
   ],
   "source": [
    "(-600000.0+854050.75)/854050.75*100"
   ]
  },
  {
   "cell_type": "code",
   "execution_count": 13,
   "id": "143e3622",
   "metadata": {},
   "outputs": [
    {
     "name": "stdout",
     "output_type": "stream",
     "text": [
      "6/6 [==============================] - 0s 528us/step\n"
     ]
    }
   ],
   "source": [
    "yhat = model.predict(X).flatten()"
   ]
  },
  {
   "cell_type": "code",
   "execution_count": 19,
   "id": "831c0cc6",
   "metadata": {},
   "outputs": [
    {
     "data": {
      "text/plain": [
       "[<matplotlib.lines.Line2D at 0x29799af50>]"
      ]
     },
     "execution_count": 19,
     "metadata": {},
     "output_type": "execute_result"
    },
    {
     "data": {
      "image/png": "[encoded data removed]",
      "text/plain": [
       "<Figure size 640x480 with 1 Axes>"
      ]
     },
     "metadata": {},
     "output_type": "display_data"
    }
   ],
   "source": [
    "plt.scatter(X,Y)\n",
    "plt.plot(X,yhat,\"r\")"
   ]
  },
  {
   "cell_type": "code",
   "execution_count": 22,
   "id": "7cb8acac",
   "metadata": {},
   "outputs": [
    {
     "name": "stdout",
     "output_type": "stream",
     "text": [
      "1/1 [==============================] - 0s 17ms/step\n"
     ]
    },
    {
     "data": {
      "text/plain": [
       "array([[1.1042738]], dtype=float32)"
      ]
     },
     "execution_count": 22,
     "metadata": {},
     "output_type": "execute_result"
    }
   ],
   "source": [
    "model.predict([[0.2]])"
   ]
  },
  {
   "cell_type": "code",
   "execution_count": 24,
   "id": "0faf2541",
   "metadata": {},
   "outputs": [],
   "source": [
    "model.save('moore_law_regression.keras')"
   ]
  },
  {
   "cell_type": "code",
   "execution_count": 28,
   "id": "ab2723f1",
   "metadata": {},
   "outputs": [],
   "source": [
    "model2 = tf.keras.models.load_model(\"moore_law_regression.keras\")"
   ]
  },
  {
   "cell_type": "code",
   "execution_count": 31,
   "id": "0d4d9242",
   "metadata": {},
   "outputs": [
    {
     "name": "stdout",
     "output_type": "stream",
     "text": [
      "6/6 [==============================] - 0s 784us/step - loss: 0.0033\n"
     ]
    },
    {
     "data": {
      "text/plain": [
       "0.0033401960972696543"
      ]
     },
     "execution_count": 31,
     "metadata": {},
     "output_type": "execute_result"
    }
   ],
   "source": [
    "model.evaluate(X,Y)\n",
    "# Same as the previous loss therefore we can conform this is the model taht we trained!"
   ]
  },
  {
   "cell_type": "code",
   "execution_count": null,
   "id": "8016eb12",
   "metadata": {},
   "outputs": [],
   "source": []
  }
 ],
 "metadata": {
  "kernelspec": {
   "display_name": "Python 3 (ipykernel)",
   "language": "python",
   "name": "python3"
  },
  "language_info": {
   "codemirror_mode": {
    "name": "ipython",
    "version": 3
   },
   "file_extension": ".py",
   "mimetype": "text/x-python",
   "name": "python",
   "nbconvert_exporter": "python",
   "pygments_lexer": "ipython3",
   "version": "3.10.9"
  }
 },
 "nbformat": 4,
 "nbformat_minor": 5
}
